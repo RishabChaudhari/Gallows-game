{
 "cells": [
  {
   "cell_type": "code",
   "execution_count": 4,
   "id": "28db67cd",
   "metadata": {},
   "outputs": [
    {
     "name": "stdout",
     "output_type": "stream",
     "text": [
      "Enter your name: Rishab\n",
      "Welcome to the game of gallows!!!\n",
      "HINT: You have to guess movie name letter by letter.\n",
      "The movie name contains 4 letters.\n",
      "_ _ _ _\n",
      "Enter a letter to guess: a\n",
      "_ a _ _\n",
      "Enter a letter to guess: s\n",
      "_ a _ _\n",
      "Enter a letter to guess: d\n",
      "_ a _ d\n",
      "Enter a letter to guess: r\n",
      "r a _ d\n",
      "Enter a letter to guess: i\n",
      "r a i d\n",
      "The word is raid\n",
      "Congratulations, you won the game!\n"
     ]
    }
   ],
   "source": [
    "import random\n",
    "from collections import Counter\n",
    "#--------------------------------------\n",
    "movies = ['dunki', 'salaar', 'war', 'tiger', 'jawaan', 'dasvi', 'ranjhana', 'animal', 'rrr', 'don',\n",
    "              'raid', 'dhoom', 'pk', 'dhol', 'circus', 'shershaah', 'prithviraj', 'dilwale',\n",
    "              'baahubali', 'dangal', 'padmaavat', 'bhediya']\n",
    "#---------------------------------------\n",
    "selected_movie = random.choice(movies)\n",
    "#---------------------------------------\n",
    "player_name = input('Enter your name: ')\n",
    "print('Welcome to the game of gallows!!!')\n",
    "print('HINT: You have to guess movie name letter by letter.')\n",
    "print(f\"The movie name contains {len(selected_movie)} letters.\")\n",
    "#----------------------------------------\n",
    "letterguessed = ''\n",
    "chances = 0\n",
    "#----------------------------------------\n",
    "while chances <= 10:\n",
    "    display_word = ''\n",
    "    #--------------------------------\n",
    "    for character in selected_movie:\n",
    "        if character in letterguessed:\n",
    "            display_word += character + ' '\n",
    "        else:\n",
    "            display_word += '_ '\n",
    "#---------------------------------------------\n",
    "    print(display_word.strip())  # Remove trailing space\n",
    "    #-----------------------------------------------------\n",
    "    if Counter(letterguessed) == Counter(selected_movie):\n",
    "        print(f'The word is {selected_movie}')\n",
    "        print('Congratulations, you won the game!')\n",
    "        break\n",
    "#---------------------------------------------------\n",
    "    guess = input('Enter a letter to guess: ')\n",
    "\n",
    "    if guess.isalpha() == False:\n",
    "        print('Enter only a letter: ')\n",
    "        continue\n",
    "    elif len(guess) > 1:\n",
    "        print('Enter only a single letter: ')\n",
    "        continue\n",
    "    elif guess in letterguessed:\n",
    "        print('You have already guessed the letter.')\n",
    "        continue\n",
    "#---------------------------------------------------\n",
    "    if guess in selected_movie:\n",
    "        count = selected_movie.count(guess)\n",
    "        for i in range(count):\n",
    "            letterguessed += guess\n",
    "    else:\n",
    "        chances += 1\n",
    "#----------------------------------------------------\n",
    "    if chances == 10:\n",
    "        print('You lost the game!!!')\n",
    "        print(f'The movie was {selected_movie}.')\n",
    "        break\n"
   ]
  },
  {
   "cell_type": "code",
   "execution_count": null,
   "id": "c8dc8904",
   "metadata": {},
   "outputs": [],
   "source": []
  }
 ],
 "metadata": {
  "kernelspec": {
   "display_name": "Python 3 (ipykernel)",
   "language": "python",
   "name": "python3"
  },
  "language_info": {
   "codemirror_mode": {
    "name": "ipython",
    "version": 3
   },
   "file_extension": ".py",
   "mimetype": "text/x-python",
   "name": "python",
   "nbconvert_exporter": "python",
   "pygments_lexer": "ipython3",
   "version": "3.11.5"
  }
 },
 "nbformat": 4,
 "nbformat_minor": 5
}
